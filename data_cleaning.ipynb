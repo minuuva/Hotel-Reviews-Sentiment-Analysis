{
 "cells": [
  {
   "cell_type": "code",
   "execution_count": 5,
   "metadata": {},
   "outputs": [],
   "source": [
    "import pandas as pd\n",
    "import re\n",
    "\n",
    "data = pd.read_csv('hotelreviews.csv')\n",
    "\n",
    "# COLUMNS = 'Hotel_Address', 'Additional_Number_of_Scoring', 'Review_Date','Average_Score', 'Hotel_Name', 'Reviewer_Nationality',\n",
    "# 'Negative_Review', 'Review_Total_Negative_Word_Counts', 'Total_Number_of_Reviews', 'Positive_Review', 'Review_Total_Positive_Word_Counts',\n",
    "# 'Total_Number_of_Reviews_Reviewer_Has_Given', 'Reviewer_Score', 'Tags', 'days_since_review', 'lat', 'lng'"
   ]
  },
  {
   "cell_type": "code",
   "execution_count": 6,
   "metadata": {},
   "outputs": [],
   "source": [
    "# Dropping unnecessary columns and handling incomplete data\n",
    "columns_to_drop = ['Hotel_Address', 'Additional_Number_of_Scoring', 'Total_Number_of_Reviews_Reviewer_Has_Given', \n",
    "                   'days_since_review', 'lat', 'lng', 'Tags', 'Reviewer_Nationality']\n",
    "data = data.drop(columns=columns_to_drop).dropna().drop_duplicates()\n",
    "\n",
    "# Removed all rows with missing reviews\n",
    "data = data[~((data['Negative_Review'] == 'No Negative') | (data['Positive_Review'] == 'No Positive'))]"
   ]
  },
  {
   "cell_type": "code",
   "execution_count": 7,
   "metadata": {},
   "outputs": [],
   "source": [
    "# Counting the number of rows for each hotel and only keeping hotels with 1000+ rows of data / dropping duplicates, NAs\n",
    "hotel_counts = data['Hotel_Name'].value_counts()\n",
    "hotels_to_keep = hotel_counts[hotel_counts >= 1000].index\n",
    "filtered_data = data[data['Hotel_Name'].isin(hotels_to_keep)]\n",
    "\n",
    "# Removing rows with irrelevant placeholders\n",
    "placeholders = [\"Nothing\", \"Other\"]\n",
    "filtered_data = filtered_data[~filtered_data['Negative_Review'].isin(placeholders) & ~filtered_data['Positive_Review'].isin(placeholders)]"
   ]
  },
  {
   "cell_type": "code",
   "execution_count": 8,
   "metadata": {},
   "outputs": [
    {
     "name": "stderr",
     "output_type": "stream",
     "text": [
      "/var/folders/hm/xnw5nd2n1yl25z8xd614c56w0000gn/T/ipykernel_67344/1410907871.py:6: FutureWarning: DataFrame.applymap has been deprecated. Use DataFrame.map instead.\n",
      "  filtered_data[['Positive_Review', 'Negative_Review']] = filtered_data[['Positive_Review', 'Negative_Review']].applymap(clean_text)\n",
      "/var/folders/hm/xnw5nd2n1yl25z8xd614c56w0000gn/T/ipykernel_67344/1410907871.py:7: FutureWarning: DataFrame.applymap has been deprecated. Use DataFrame.map instead.\n",
      "  filtered_data[['Positive_Review', 'Negative_Review']] = filtered_data[['Positive_Review', 'Negative_Review']].applymap(str.lower)\n"
     ]
    }
   ],
   "source": [
    "# Removing excessive whitespace and special characters / standarized all text to lowercase\n",
    "def clean_text(text):\n",
    "    text = re.sub(r'\\s+', ' ', text)\n",
    "    text = re.sub(r'[^\\w\\s]', '', text)\n",
    "    return text.strip()\n",
    "filtered_data[['Positive_Review', 'Negative_Review']] = filtered_data[['Positive_Review', 'Negative_Review']].applymap(clean_text)\n",
    "filtered_data[['Positive_Review', 'Negative_Review']] = filtered_data[['Positive_Review', 'Negative_Review']].applymap(str.lower)\n",
    "\n",
    "# Exporting cleaned dataset\n",
    "filtered_data.to_csv('cleaned_hotelreviews.csv', index=False)"
   ]
  }
 ],
 "metadata": {
  "kernelspec": {
   "display_name": "Python 3",
   "language": "python",
   "name": "python3"
  },
  "language_info": {
   "codemirror_mode": {
    "name": "ipython",
    "version": 3
   },
   "file_extension": ".py",
   "mimetype": "text/x-python",
   "name": "python",
   "nbconvert_exporter": "python",
   "pygments_lexer": "ipython3",
   "version": "3.12.5"
  }
 },
 "nbformat": 4,
 "nbformat_minor": 2
}
