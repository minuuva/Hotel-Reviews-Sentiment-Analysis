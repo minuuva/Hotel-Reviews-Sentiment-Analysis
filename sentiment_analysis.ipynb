{
 "cells": [
  {
   "cell_type": "code",
   "execution_count": 2,
   "metadata": {},
   "outputs": [],
   "source": [
    "import pandas as pd\n",
    "from textblob import TextBlob\n",
    "\n",
    "data = pd.read_csv('cleaned_hotelreviews.csv')"
   ]
  },
  {
   "cell_type": "code",
   "execution_count": 3,
   "metadata": {},
   "outputs": [],
   "source": [
    "# I must fist ensure that reviews are strings because TextBlob only work with strings\n",
    "data['Positive_Review'] = data['Positive_Review'].astype(str)\n",
    "data['Negative_Review'] = data['Negative_Review'].astype(str)"
   ]
  },
  {
   "cell_type": "code",
   "execution_count": 4,
   "metadata": {},
   "outputs": [],
   "source": [
    "# To analyze the text for polarity (sentiment) and subjectivity\n",
    "data['Positive_Sentiment'] = data['Positive_Review'].apply(lambda x: TextBlob(x).sentiment.polarity)\n",
    "data['Negative_Sentiment'] = data['Negative_Review'].apply(lambda x: TextBlob(x).sentiment.polarity)"
   ]
  },
  {
   "cell_type": "code",
   "execution_count": 5,
   "metadata": {},
   "outputs": [
    {
     "name": "stdout",
     "output_type": "stream",
     "text": [
      "                         Hotel_Name  \\\n",
      "0  The Park Grand London Paddington   \n",
      "1  The Park Grand London Paddington   \n",
      "2  The Park Grand London Paddington   \n",
      "3  The Park Grand London Paddington   \n",
      "4  The Park Grand London Paddington   \n",
      "\n",
      "                                     Positive_Review  Positive_Sentiment  \\\n",
      "0                               the size of the room            0.000000   \n",
      "1                                    nothing special            0.357143   \n",
      "2  the front desk and entrance was very nice and ...            0.780000   \n",
      "3  they transfer me to the park grand london kens...            0.275000   \n",
      "4  very handy location to paddington station and ...            0.354551   \n",
      "\n",
      "                                     Negative_Review  Negative_Sentiment  \n",
      "0  the first night we were given an extremely sma...            0.050000  \n",
      "1  they stolen 800 from my money from the safe bo...            0.233333  \n",
      "2  the room was appalling i had originally reques...            0.111224  \n",
      "3  the change of hotel story it repeated with eve...            0.100000  \n",
      "4  our room seemed hidden away in the bowels of t...            0.136905  \n"
     ]
    }
   ],
   "source": [
    "# To see the sentiment polarity\n",
    "print(data[['Hotel_Name', 'Positive_Review', 'Positive_Sentiment', 'Negative_Review', 'Negative_Sentiment']].head())"
   ]
  },
  {
   "cell_type": "code",
   "execution_count": 6,
   "metadata": {},
   "outputs": [
    {
     "name": "stdout",
     "output_type": "stream",
     "text": [
      "                                                   Positive_Sentiment  \\\n",
      "Hotel_Name                                                              \n",
      "Intercontinental London The O2                               0.469307   \n",
      "Hotel Esther a                                               0.444059   \n",
      "The Tower A Guoman Hotel                                     0.434519   \n",
      "Mondrian London                                              0.433861   \n",
      "DoubleTree by Hilton Hotel London Tower of London            0.431256   \n",
      "\n",
      "                                                   Negative_Sentiment  \n",
      "Hotel_Name                                                             \n",
      "Intercontinental London The O2                               0.032244  \n",
      "Hotel Esther a                                               0.036016  \n",
      "The Tower A Guoman Hotel                                     0.014068  \n",
      "Mondrian London                                              0.040852  \n",
      "DoubleTree by Hilton Hotel London Tower of London            0.006867  \n",
      "                                    Positive_Sentiment  Negative_Sentiment\n",
      "Hotel_Name                                                                \n",
      "citizenM London Bankside                      0.405379            0.058457\n",
      "Best Western Premier Hotel Couture            0.381366            0.050032\n",
      "Mondrian London                               0.433861            0.040852\n",
      "Crowne Plaza London Docklands                 0.420295            0.038140\n",
      "Hotel Esther a                                0.444059            0.036016\n"
     ]
    }
   ],
   "source": [
    "# Aggregating sentiment scores by hotel\n",
    "hotel_sentiments = data.groupby('Hotel_Name')[['Positive_Sentiment', 'Negative_Sentiment']].mean()\n",
    "\n",
    "print(hotel_sentiments.sort_values(by='Positive_Sentiment', ascending=False).head(5))  # Top positive hotels\n",
    "print(hotel_sentiments.sort_values(by='Negative_Sentiment', ascending=False).head(5))  # Top negative hotels"
   ]
  },
  {
   "cell_type": "code",
   "execution_count": 9,
   "metadata": {},
   "outputs": [
    {
     "name": "stdout",
     "output_type": "stream",
     "text": [
      "                                          Hotel_Name  Hotel_Score\n",
      "0                     Intercontinental London The O2    71.853144\n",
      "1  DoubleTree by Hilton Hotel London Tower of London    71.219423\n",
      "2                  St James Court A Taj Hotel London    71.041401\n",
      "3                           The Tower A Guoman Hotel    71.022560\n",
      "4                              Hilton London Wembley    70.628802\n",
      "5                        Park Plaza London Riverbank    70.610807\n",
      "6    DoubleTree by Hilton London Docklands Riverside    70.547576\n",
      "7               Park Plaza Westminster Bridge London    70.438930\n",
      "8                                     Hotel Esther a    70.402132\n",
      "9                      Park Plaza County Hall London    70.178690\n",
      "                                    Hotel_Name  Hotel_Score\n",
      "32            The Park Grand London Paddington    66.836044\n",
      "33                   Norfolk Towers Paddington    66.767927\n",
      "34          Millennium Gloucester Hotel London    66.572460\n",
      "35          Best Western Premier Hotel Couture    66.566658\n",
      "36               Holiday Inn London Kensington    66.502474\n",
      "37                     Hilton London Metropole    65.367433\n",
      "38       Shaftesbury Premier London Paddington    64.827316\n",
      "39                 Mercure Paris Terminus Nord    63.987580\n",
      "40  Britannia International Hotel Canary Wharf    63.860788\n",
      "41               The Cumberland A Guoman Hotel    63.338895\n"
     ]
    }
   ],
   "source": [
    "# Calculating the hotel scores. Absolute value was used for negative sentiments because higher values are worse in the context of negative comments, while high values\n",
    "# are better for positive comments\n",
    "\n",
    "hotel_sentiments['Hotel_Score'] = (hotel_sentiments['Positive_Sentiment'] - abs(hotel_sentiments['Negative_Sentiment'])) * 50 + 50\n",
    "\n",
    "# Ensuring that the scores are within 0-100 bounds\n",
    "hotel_sentiments['Hotel_Score'] = hotel_sentiments['Hotel_Score'].clip(0, 100)\n",
    "data['Hotel_Score'] = data['Hotel_Name'].map(hotel_sentiments['Hotel_Score'])\n",
    "\n",
    "# Sorting the hotels by their score (desc)\n",
    "hotel_sentiments = hotel_sentiments.sort_values(by='Hotel_Score', ascending=False)\n",
    "\n",
    "# Resetting the index to include 'Hotel_Name' as a column in hotel_sentiments\n",
    "hotel_sentiments = hotel_sentiments.reset_index()\n",
    "\n",
    "# Adding the 'Hotel_Score' column to the original data\n",
    "data['Hotel_Score'] = data['Hotel_Name'].map(hotel_sentiments.set_index('Hotel_Name')['Hotel_Score'])\n",
    "\n",
    "# Displaying the top 10 hotels by score\n",
    "print(hotel_sentiments[['Hotel_Name', 'Hotel_Score']].head(10))\n",
    "print(hotel_sentiments[['Hotel_Name', 'Hotel_Score']].tail(10))"
   ]
  },
  {
   "cell_type": "code",
   "execution_count": 30,
   "metadata": {},
   "outputs": [],
   "source": [
    "data.to_csv('hotelreviews_with_scores.csv', index=False)"
   ]
  }
 ],
 "metadata": {
  "kernelspec": {
   "display_name": "Python 3",
   "language": "python",
   "name": "python3"
  },
  "language_info": {
   "codemirror_mode": {
    "name": "ipython",
    "version": 3
   },
   "file_extension": ".py",
   "mimetype": "text/x-python",
   "name": "python",
   "nbconvert_exporter": "python",
   "pygments_lexer": "ipython3",
   "version": "3.12.5"
  }
 },
 "nbformat": 4,
 "nbformat_minor": 2
}
